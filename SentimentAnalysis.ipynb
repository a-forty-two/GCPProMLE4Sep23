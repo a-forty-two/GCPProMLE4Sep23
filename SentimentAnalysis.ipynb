{
  "nbformat": 4,
  "nbformat_minor": 0,
  "metadata": {
    "colab": {
      "provenance": [],
      "authorship_tag": "ABX9TyMOt2rlLwQZ9oloX95ZjqlF",
      "include_colab_link": true
    },
    "kernelspec": {
      "name": "python3",
      "display_name": "Python 3"
    },
    "language_info": {
      "name": "python"
    }
  },
  "cells": [
    {
      "cell_type": "markdown",
      "metadata": {
        "id": "view-in-github",
        "colab_type": "text"
      },
      "source": [
        "<a href=\"https://colab.research.google.com/github/a-forty-two/GCPProMLE4Sep23/blob/main/SentimentAnalysis.ipynb\" target=\"_parent\"><img src=\"https://colab.research.google.com/assets/colab-badge.svg\" alt=\"Open In Colab\"/></a>"
      ]
    },
    {
      "cell_type": "code",
      "execution_count": 1,
      "metadata": {
        "id": "nU7AQMLeFO-i"
      },
      "outputs": [],
      "source": [
        "from tensorflow import keras\n",
        "import tensorflow"
      ]
    },
    {
      "cell_type": "code",
      "source": [
        "alldata = keras.datasets.imdb\n",
        "dir(alldata)\n"
      ],
      "metadata": {
        "colab": {
          "base_uri": "https://localhost:8080/"
        },
        "id": "pmCEnvutHDkH",
        "outputId": "609f5f07-027e-42bb-c785-06a5e0ae1b01"
      },
      "execution_count": 2,
      "outputs": [
        {
          "output_type": "execute_result",
          "data": {
            "text/plain": [
              "['__builtins__',\n",
              " '__cached__',\n",
              " '__doc__',\n",
              " '__file__',\n",
              " '__loader__',\n",
              " '__name__',\n",
              " '__package__',\n",
              " '__path__',\n",
              " '__spec__',\n",
              " '_sys',\n",
              " 'get_word_index',\n",
              " 'load_data']"
            ]
          },
          "metadata": {},
          "execution_count": 2
        }
      ]
    },
    {
      "cell_type": "code",
      "source": [
        "data = alldata.load_data()"
      ],
      "metadata": {
        "id": "5aM1hTifHJGn",
        "colab": {
          "base_uri": "https://localhost:8080/"
        },
        "outputId": "c36aa493-32e5-4b61-f28e-f140270afcc3"
      },
      "execution_count": 3,
      "outputs": [
        {
          "output_type": "stream",
          "name": "stdout",
          "text": [
            "Downloading data from https://storage.googleapis.com/tensorflow/tf-keras-datasets/imdb.npz\n",
            "17464789/17464789 [==============================] - 0s 0us/step\n"
          ]
        }
      ]
    },
    {
      "cell_type": "code",
      "source": [
        "len(data), len(data[0])"
      ],
      "metadata": {
        "colab": {
          "base_uri": "https://localhost:8080/"
        },
        "id": "K5Mezg9NHe_Z",
        "outputId": "56ddbe29-80cd-4689-f7c8-fafe951d935c"
      },
      "execution_count": 4,
      "outputs": [
        {
          "output_type": "execute_result",
          "data": {
            "text/plain": [
              "(2, 2)"
            ]
          },
          "metadata": {},
          "execution_count": 4
        }
      ]
    },
    {
      "cell_type": "code",
      "source": [
        "len(data[1][1])"
      ],
      "metadata": {
        "colab": {
          "base_uri": "https://localhost:8080/"
        },
        "id": "pG58raOJHg00",
        "outputId": "b4ec2be2-eae1-42ee-8f90-a7b1cdf0bab1"
      },
      "execution_count": 8,
      "outputs": [
        {
          "output_type": "execute_result",
          "data": {
            "text/plain": [
              "25000"
            ]
          },
          "metadata": {},
          "execution_count": 8
        }
      ]
    },
    {
      "cell_type": "code",
      "source": [
        "#print(xtrain[142])"
      ],
      "metadata": {
        "id": "RR2F-ofPOb7r"
      },
      "execution_count": null,
      "outputs": []
    },
    {
      "cell_type": "code",
      "source": [
        "HP_vocab_size = 10000\n",
        "HP_epochs = 50\n",
        "HP_batch_size = 32\n",
        "HP_maxlen = 256\n",
        "HP_initial_LR = 0.001\n",
        "# when learning is complete, lr = 0!\n",
        "# 0 = 1e-3 + decay_rate * 50\n"
      ],
      "metadata": {
        "id": "ofqsUHRFL4lS"
      },
      "execution_count": 9,
      "outputs": []
    },
    {
      "cell_type": "code",
      "source": [
        "opt = keras.optimizers.Adam(\n",
        "    learning_rate=HP_initial_LR)"
      ],
      "metadata": {
        "id": "wYry7IgkM-uV"
      },
      "execution_count": 10,
      "outputs": []
    },
    {
      "cell_type": "code",
      "source": [
        "(xtrain, ytrain), (xtest, ytest) = keras.datasets.imdb.load_data(\n",
        "    num_words = HP_vocab_size\n",
        ")"
      ],
      "metadata": {
        "id": "GKZP9SkRHpqs"
      },
      "execution_count": 11,
      "outputs": []
    },
    {
      "cell_type": "code",
      "source": [
        "ytrain[0], ytrain[789]"
      ],
      "metadata": {
        "colab": {
          "base_uri": "https://localhost:8080/"
        },
        "id": "jd3MQnC6HzJ5",
        "outputId": "63bbce7f-30c0-4c3f-a793-f861e62629b7"
      },
      "execution_count": 12,
      "outputs": [
        {
          "output_type": "execute_result",
          "data": {
            "text/plain": [
              "(1, 0)"
            ]
          },
          "metadata": {},
          "execution_count": 12
        }
      ]
    },
    {
      "cell_type": "code",
      "source": [
        "print(xtrain[0])"
      ],
      "metadata": {
        "colab": {
          "base_uri": "https://localhost:8080/"
        },
        "id": "EduYXoffH4OM",
        "outputId": "d5350633-789b-4fff-a1bc-accce1ba00f1"
      },
      "execution_count": 13,
      "outputs": [
        {
          "output_type": "stream",
          "name": "stdout",
          "text": [
            "[1, 14, 22, 16, 43, 530, 973, 1622, 1385, 65, 458, 4468, 66, 3941, 4, 173, 36, 256, 5, 25, 100, 43, 838, 112, 50, 670, 2, 9, 35, 480, 284, 5, 150, 4, 172, 112, 167, 2, 336, 385, 39, 4, 172, 4536, 1111, 17, 546, 38, 13, 447, 4, 192, 50, 16, 6, 147, 2025, 19, 14, 22, 4, 1920, 4613, 469, 4, 22, 71, 87, 12, 16, 43, 530, 38, 76, 15, 13, 1247, 4, 22, 17, 515, 17, 12, 16, 626, 18, 2, 5, 62, 386, 12, 8, 316, 8, 106, 5, 4, 2223, 5244, 16, 480, 66, 3785, 33, 4, 130, 12, 16, 38, 619, 5, 25, 124, 51, 36, 135, 48, 25, 1415, 33, 6, 22, 12, 215, 28, 77, 52, 5, 14, 407, 16, 82, 2, 8, 4, 107, 117, 5952, 15, 256, 4, 2, 7, 3766, 5, 723, 36, 71, 43, 530, 476, 26, 400, 317, 46, 7, 4, 2, 1029, 13, 104, 88, 4, 381, 15, 297, 98, 32, 2071, 56, 26, 141, 6, 194, 7486, 18, 4, 226, 22, 21, 134, 476, 26, 480, 5, 144, 30, 5535, 18, 51, 36, 28, 224, 92, 25, 104, 4, 226, 65, 16, 38, 1334, 88, 12, 16, 283, 5, 16, 4472, 113, 103, 32, 15, 16, 5345, 19, 178, 32]\n"
          ]
        }
      ]
    },
    {
      "cell_type": "code",
      "source": [
        "vocab = alldata.get_word_index()"
      ],
      "metadata": {
        "id": "NNMGpytyIAyd",
        "colab": {
          "base_uri": "https://localhost:8080/"
        },
        "outputId": "6ea38e57-4b53-4e37-b061-36704a7be165"
      },
      "execution_count": 14,
      "outputs": [
        {
          "output_type": "stream",
          "name": "stdout",
          "text": [
            "Downloading data from https://storage.googleapis.com/tensorflow/tf-keras-datasets/imdb_word_index.json\n",
            "1641221/1641221 [==============================] - 0s 0us/step\n"
          ]
        }
      ]
    },
    {
      "cell_type": "code",
      "source": [
        "rev_vocab = { v:k for k,v in vocab.items()}"
      ],
      "metadata": {
        "id": "MYf9hSp8IxUa"
      },
      "execution_count": 15,
      "outputs": []
    },
    {
      "cell_type": "code",
      "source": [
        "def decoder(sentence):\n",
        "  words= [ rev_vocab[word]  for word in sentence]\n",
        "  full_sentence = \" \".join(words)\n",
        "  return full_sentence"
      ],
      "metadata": {
        "id": "mD0Ze918IzWx"
      },
      "execution_count": 16,
      "outputs": []
    },
    {
      "cell_type": "code",
      "source": [
        "decoder(xtrain[90])"
      ],
      "metadata": {
        "colab": {
          "base_uri": "https://localhost:8080/",
          "height": 178
        },
        "id": "b15J4cxbQGWm",
        "outputId": "f7908239-4bdc-4470-f013-71b149192fbc"
      },
      "execution_count": 17,
      "outputs": [
        {
          "output_type": "execute_result",
          "data": {
            "text/plain": [
              "\"the this enough premiere and better executed ability br and with his her and movie it stick politics i i was one is excellent cut this and only natural with lot br of how truly full this of want f br and pop and off that however of here br realistically and me will her points violent this and of 1 for from me in and of guy to simple or and this seen money pleasures sees hours is exciting and guy to sets shockingly and ability his is displays really me of truly and br and and with is quite touches in of i've been stick politics i i of she's it for of house geniuses for its great does it of complicated down roth cute dies are and are arrived really disaster and rented movie trite of thought group fun to big was can about previous are and to sentiment historical those are for top and with is word bath this of neil whether and to audience and with table and who private and yes br complicated sirk was let musicals was two that with and happen can't ok in out imagination i i they by my complicated other moore is am and place br of problem 1 and movie table and\""
            ],
            "application/vnd.google.colaboratory.intrinsic+json": {
              "type": "string"
            }
          },
          "metadata": {},
          "execution_count": 17
        }
      ]
    },
    {
      "cell_type": "code",
      "source": [
        "decoder(xtrain[2090])"
      ],
      "metadata": {
        "colab": {
          "base_uri": "https://localhost:8080/",
          "height": 192
        },
        "id": "zE9hpaQpQKkQ",
        "outputId": "fad6b244-fe6b-4aa7-d5d2-4b97987b4aa5"
      },
      "execution_count": null,
      "outputs": [
        {
          "output_type": "execute_result",
          "data": {
            "text/plain": [
              "\"the as on it has is time nowhere slack aspects idea like it jon in gadget is during doing and fascinated ways sets in targeted and and that mean floors rent psyche this of white almost to would end movie has movie much movie of guy grew was two and beau story one will is still moves not cartoon of complete heroes day on wrong from away against glorious about floors rent end few him this us nice not bad best also in can about used struggling of their it around straight in why of there's newspaper even focused is got to african close and there of forced michael almost all it of idea are of ways to other of did cut but floors rent and and there is again spend something movie of list work say like cat of mack 80s to thing two is found real gadget theaters as come it hear she unfortunately of you to burt in why it prove union floors rent thing maybe about ways i'm think and faster gimmicks would thing people last is forced gadget attempt people more it is makes hatred jim is timeless to his her screaming fred like and and this documentary in surely be props to 1 just tricks fascinated fred loy and that different just seeing me is very my minutes as you not of see now everything in can that it but floors rent psyche evil his for him so horrible not would there is detract sat version solid to is time and level\""
            ],
            "application/vnd.google.colaboratory.intrinsic+json": {
              "type": "string"
            }
          },
          "metadata": {},
          "execution_count": 40
        }
      ]
    },
    {
      "cell_type": "code",
      "source": [
        "# 0 <PAD>\n",
        "# 1 <START>\n",
        "# 2 <UNKNOWN>\n",
        "# 3 <UNUSED>\n",
        "rev_new_vocab = { }"
      ],
      "metadata": {
        "id": "-nwH3zvrQR_1"
      },
      "execution_count": 18,
      "outputs": []
    },
    {
      "cell_type": "code",
      "source": [
        "#rev_vocab[1], rev_vocab[0]"
      ],
      "metadata": {
        "id": "4qL_v3VcR3Tu"
      },
      "execution_count": null,
      "outputs": []
    },
    {
      "cell_type": "code",
      "source": [
        "fixed_dict = { k:v+3 for k,v in vocab.items()}\n",
        "rev_fixed_vocab = { v:k for k,v in fixed_dict.items() }"
      ],
      "metadata": {
        "id": "XLw5JUuqR4Ga"
      },
      "execution_count": 19,
      "outputs": []
    },
    {
      "cell_type": "code",
      "source": [
        "rev_fixed_vocab[41]"
      ],
      "metadata": {
        "colab": {
          "base_uri": "https://localhost:8080/",
          "height": 36
        },
        "id": "shcl2UWASsZB",
        "outputId": "3b5a031d-567c-4def-99f1-ab5186674ec6"
      },
      "execution_count": 20,
      "outputs": [
        {
          "output_type": "execute_result",
          "data": {
            "text/plain": [
              "'her'"
            ],
            "application/vnd.google.colaboratory.intrinsic+json": {
              "type": "string"
            }
          },
          "metadata": {},
          "execution_count": 20
        }
      ]
    },
    {
      "cell_type": "code",
      "source": [
        "rev_fixed_vocab[0] = \"<PAD>\"\n",
        "rev_fixed_vocab[1] = \"<START>\"\n",
        "rev_fixed_vocab[2] = \"<UNK>\"\n",
        "rev_fixed_vocab[3] = \"<UNUSED>\""
      ],
      "metadata": {
        "id": "pPM7xKp-TAs4"
      },
      "execution_count": 21,
      "outputs": []
    },
    {
      "cell_type": "code",
      "source": [
        "def decoder(sentence):\n",
        "  words= [ rev_fixed_vocab[word]  for word in sentence]\n",
        "  full_sentence = \" \".join(words)\n",
        "  return full_sentence"
      ],
      "metadata": {
        "id": "VWOdg7CWT0PK"
      },
      "execution_count": 22,
      "outputs": []
    },
    {
      "cell_type": "code",
      "source": [
        "decoder(xtrain[5015])"
      ],
      "metadata": {
        "colab": {
          "base_uri": "https://localhost:8080/",
          "height": 178
        },
        "id": "JTq9l5CuT9FI",
        "outputId": "ad970acb-3691-4856-caa4-e2ccc62b4ada"
      },
      "execution_count": 31,
      "outputs": [
        {
          "output_type": "execute_result",
          "data": {
            "text/plain": [
              "\"<START> this is a fantastic series first and foremost it is very well done and very interesting as a huge wwii buff i had learned a lot before seeing this series one of the best things this has going for it is all the interviews with past individuals back when the war was relatively fresh in their minds <UNK> speaking that is it is nothing against the men that you see getting interviewed in the programs of today it is just that most of these men weren't really involved in the upper <UNK> of what was happening then one of the best parts is the <UNK> by sir laurence oliver i would recommend this to anyone that wants to learn about wwii but really think only the die <UNK> such as myself will want to buy this or watch it more than once my only real complaint about this entire series is that some of the facts aren't quite as accurate as we now know especially with the information about soviet union is exaggerated or just plain inaccurate in places that information is now different we now know because of the fall of the <UNK> overall a fascinating look at wwii and a must see for any serious wwii <UNK> professional or personal alike\""
            ],
            "application/vnd.google.colaboratory.intrinsic+json": {
              "type": "string"
            }
          },
          "metadata": {},
          "execution_count": 31
        }
      ]
    },
    {
      "cell_type": "code",
      "source": [
        "ytrain[5015]"
      ],
      "metadata": {
        "colab": {
          "base_uri": "https://localhost:8080/"
        },
        "id": "UVQMS5nWT-6r",
        "outputId": "169d7107-b5d3-4ff3-e43b-a7117e7e32fb"
      },
      "execution_count": 32,
      "outputs": [
        {
          "output_type": "execute_result",
          "data": {
            "text/plain": [
              "1"
            ]
          },
          "metadata": {},
          "execution_count": 32
        }
      ]
    },
    {
      "cell_type": "code",
      "source": [
        "for i in range(10):\n",
        "  print(len(xtrain[i]))"
      ],
      "metadata": {
        "colab": {
          "base_uri": "https://localhost:8080/"
        },
        "id": "8aP_5fN5UEL_",
        "outputId": "524664d9-4385-4d97-cf4d-b10c3a0b7895"
      },
      "execution_count": 33,
      "outputs": [
        {
          "output_type": "stream",
          "name": "stdout",
          "text": [
            "218\n",
            "189\n",
            "141\n",
            "550\n",
            "147\n",
            "43\n",
            "123\n",
            "562\n",
            "233\n",
            "130\n"
          ]
        }
      ]
    },
    {
      "cell_type": "code",
      "source": [
        "xtrain_padded = keras.preprocessing.sequence.pad_sequences(\n",
        "    xtrain, maxlen = HP_maxlen,\n",
        "    truncating = 'post', padding = 'post'\n",
        ")"
      ],
      "metadata": {
        "id": "SJWo-UfFUa_r"
      },
      "execution_count": 34,
      "outputs": []
    },
    {
      "cell_type": "code",
      "source": [
        "xtrain_padded[3]"
      ],
      "metadata": {
        "id": "LnqvEBlBVQhU",
        "colab": {
          "base_uri": "https://localhost:8080/"
        },
        "outputId": "7b249831-8922-4442-c1fe-af999fe7a459"
      },
      "execution_count": 35,
      "outputs": [
        {
          "output_type": "execute_result",
          "data": {
            "text/plain": [
              "array([   1,    4,    2,    2,   33, 2804,    4, 2040,  432,  111,  153,\n",
              "        103,    4, 1494,   13,   70,  131,   67,   11,   61,    2,  744,\n",
              "         35, 3715,  761,   61, 5766,  452, 9214,    4,  985,    7,    2,\n",
              "         59,  166,    4,  105,  216, 1239,   41, 1797,    9,   15,    7,\n",
              "         35,  744, 2413,   31,    8,    4,  687,   23,    4,    2, 7339,\n",
              "          6, 3693,   42,   38,   39,  121,   59,  456,   10,   10,    7,\n",
              "        265,   12,  575,  111,  153,  159,   59,   16, 1447,   21,   25,\n",
              "        586,  482,   39,    4,   96,   59,  716,   12,    4,  172,   65,\n",
              "          9,  579,   11, 6004,    4, 1615,    5,    2,    7, 5168,   17,\n",
              "         13, 7064,   12,   19,    6,  464,   31,  314,   11,    2,    6,\n",
              "        719,  605,   11,    8,  202,   27,  310,    4, 3772, 3501,    8,\n",
              "       2722,   58,   10,   10,  537, 2116,  180,   40,   14,  413,  173,\n",
              "          7,  263,  112,   37,  152,  377,    4,  537,  263,  846,  579,\n",
              "        178,   54,   75,   71,  476,   36,  413,  263, 2504,  182,    5,\n",
              "         17,   75, 2306,  922,   36,  279,  131, 2895,   17, 2867,   42,\n",
              "         17,   35,  921,    2,  192,    5, 1219, 3890,   19,    2,  217,\n",
              "       4122, 1710,  537,    2, 1236,    5,  736,   10,   10,   61,  403,\n",
              "          9,    2,   40,   61, 4494,    5,   27, 4494,  159,   90,  263,\n",
              "       2311, 4319,  309,    8,  178,    5,   82, 4319,    4,   65,   15,\n",
              "       9225,  145,  143, 5122,   12, 7039,  537,  746,  537,  537,   15,\n",
              "       7979,    4,    2,  594,    7, 5168,   94, 9096, 3987,    2,   11,\n",
              "          2,    4,  538,    7, 1795,  246,    2,    9,    2,   11,  635,\n",
              "         14,    9,   51,  408,   12,   94,  318, 1382,   12,   47,    6,\n",
              "       2683,  936,    5], dtype=int32)"
            ]
          },
          "metadata": {},
          "execution_count": 35
        }
      ]
    },
    {
      "cell_type": "code",
      "source": [
        "xtrain_padded[5]"
      ],
      "metadata": {
        "id": "lPTilPKfVb8P",
        "colab": {
          "base_uri": "https://localhost:8080/"
        },
        "outputId": "1cd5b287-392b-48c3-a326-1d2311411f81"
      },
      "execution_count": 36,
      "outputs": [
        {
          "output_type": "execute_result",
          "data": {
            "text/plain": [
              "array([   1,  778,  128,   74,   12,  630,  163,   15,    4, 1766, 7982,\n",
              "       1051,    2,   32,   85,  156,   45,   40,  148,  139,  121,  664,\n",
              "        665,   10,   10, 1361,  173,    4,  749,    2,   16, 3804,    8,\n",
              "          4,  226,   65,   12,   43,  127,   24,    2,   10,   10,    0,\n",
              "          0,    0,    0,    0,    0,    0,    0,    0,    0,    0,    0,\n",
              "          0,    0,    0,    0,    0,    0,    0,    0,    0,    0,    0,\n",
              "          0,    0,    0,    0,    0,    0,    0,    0,    0,    0,    0,\n",
              "          0,    0,    0,    0,    0,    0,    0,    0,    0,    0,    0,\n",
              "          0,    0,    0,    0,    0,    0,    0,    0,    0,    0,    0,\n",
              "          0,    0,    0,    0,    0,    0,    0,    0,    0,    0,    0,\n",
              "          0,    0,    0,    0,    0,    0,    0,    0,    0,    0,    0,\n",
              "          0,    0,    0,    0,    0,    0,    0,    0,    0,    0,    0,\n",
              "          0,    0,    0,    0,    0,    0,    0,    0,    0,    0,    0,\n",
              "          0,    0,    0,    0,    0,    0,    0,    0,    0,    0,    0,\n",
              "          0,    0,    0,    0,    0,    0,    0,    0,    0,    0,    0,\n",
              "          0,    0,    0,    0,    0,    0,    0,    0,    0,    0,    0,\n",
              "          0,    0,    0,    0,    0,    0,    0,    0,    0,    0,    0,\n",
              "          0,    0,    0,    0,    0,    0,    0,    0,    0,    0,    0,\n",
              "          0,    0,    0,    0,    0,    0,    0,    0,    0,    0,    0,\n",
              "          0,    0,    0,    0,    0,    0,    0,    0,    0,    0,    0,\n",
              "          0,    0,    0,    0,    0,    0,    0,    0,    0,    0,    0,\n",
              "          0,    0,    0,    0,    0,    0,    0,    0,    0,    0,    0,\n",
              "          0,    0,    0,    0,    0,    0,    0,    0,    0,    0,    0,\n",
              "          0,    0,    0], dtype=int32)"
            ]
          },
          "metadata": {},
          "execution_count": 36
        }
      ]
    },
    {
      "cell_type": "code",
      "source": [
        "for i in range(10):\n",
        "  print(len(xtrain_padded[i]), end=\" \")"
      ],
      "metadata": {
        "colab": {
          "base_uri": "https://localhost:8080/"
        },
        "id": "T8wsIRUlVm-4",
        "outputId": "6b69d254-3780-4080-fd8b-5472e869796a"
      },
      "execution_count": 37,
      "outputs": [
        {
          "output_type": "stream",
          "name": "stdout",
          "text": [
            "256 256 256 256 256 256 256 256 256 256 "
          ]
        }
      ]
    },
    {
      "cell_type": "code",
      "source": [
        "import tensorflow as tf\n",
        "from keras.layers import Embedding, GlobalAvgPool1D\n",
        "from keras.layers import Dense\n",
        "m = keras.Sequential([\n",
        "        Embedding(10000, 32),\n",
        "        GlobalAvgPool1D(),\n",
        "        Dense(256),\n",
        "        Dense(512),\n",
        "        Dense(1)\n",
        "])"
      ],
      "metadata": {
        "id": "UxQnzB3LVwIr"
      },
      "execution_count": null,
      "outputs": []
    },
    {
      "cell_type": "code",
      "source": [
        "m.summary()"
      ],
      "metadata": {
        "colab": {
          "base_uri": "https://localhost:8080/"
        },
        "id": "wt1GD-WjL2-M",
        "outputId": "a3d4b2ae-c848-40c5-ed9d-dcab99cdcb21"
      },
      "execution_count": null,
      "outputs": [
        {
          "output_type": "stream",
          "name": "stdout",
          "text": [
            "Model: \"sequential_2\"\n",
            "_________________________________________________________________\n",
            " Layer (type)                Output Shape              Param #   \n",
            "=================================================================\n",
            " embedding_3 (Embedding)     (None, None, 32)          320000    \n",
            "                                                                 \n",
            " global_average_pooling1d_3   (None, 32)               0         \n",
            " (GlobalAveragePooling1D)                                        \n",
            "                                                                 \n",
            " dense_6 (Dense)             (None, 256)               8448      \n",
            "                                                                 \n",
            " dense_7 (Dense)             (None, 512)               131584    \n",
            "                                                                 \n",
            " dense_8 (Dense)             (None, 1)                 513       \n",
            "                                                                 \n",
            "=================================================================\n",
            "Total params: 460,545\n",
            "Trainable params: 460,545\n",
            "Non-trainable params: 0\n",
            "_________________________________________________________________\n"
          ]
        }
      ]
    },
    {
      "cell_type": "code",
      "source": [
        "m.compile(loss = 'binary_crossentropy',\n",
        "          optimizer='adam')"
      ],
      "metadata": {
        "id": "zeYxHUopMEwY"
      },
      "execution_count": null,
      "outputs": []
    },
    {
      "cell_type": "code",
      "source": [
        "m.fit(xtrain_padded, ytrain, epochs=20)"
      ],
      "metadata": {
        "colab": {
          "base_uri": "https://localhost:8080/"
        },
        "id": "D1b4j5QZO_O6",
        "outputId": "d3b6a171-d80a-4acf-b9ce-e9a0e509b5ca"
      },
      "execution_count": null,
      "outputs": [
        {
          "output_type": "stream",
          "name": "stdout",
          "text": [
            "Epoch 1/20\n",
            "782/782 [==============================] - 12s 13ms/step - loss: 0.3889\n",
            "Epoch 2/20\n",
            "782/782 [==============================] - 10s 13ms/step - loss: 0.2218\n",
            "Epoch 3/20\n",
            "782/782 [==============================] - 10s 13ms/step - loss: 0.1805\n",
            "Epoch 4/20\n",
            "782/782 [==============================] - 10s 13ms/step - loss: 0.1488\n",
            "Epoch 5/20\n",
            "782/782 [==============================] - 10s 13ms/step - loss: 0.1223\n",
            "Epoch 6/20\n",
            "782/782 [==============================] - 11s 14ms/step - loss: 0.0952\n",
            "Epoch 7/20\n",
            "782/782 [==============================] - 10s 13ms/step - loss: 0.0755\n",
            "Epoch 8/20\n",
            "782/782 [==============================] - 10s 13ms/step - loss: 0.0684\n",
            "Epoch 9/20\n",
            "782/782 [==============================] - 12s 15ms/step - loss: 0.0508\n",
            "Epoch 10/20\n",
            "782/782 [==============================] - 11s 14ms/step - loss: 0.0420\n",
            "Epoch 11/20\n",
            "782/782 [==============================] - 10s 13ms/step - loss: 0.0375\n",
            "Epoch 12/20\n",
            "782/782 [==============================] - 10s 13ms/step - loss: 0.0265\n",
            "Epoch 13/20\n",
            "782/782 [==============================] - 10s 13ms/step - loss: 0.0257\n",
            "Epoch 14/20\n",
            "782/782 [==============================] - 11s 13ms/step - loss: 0.0170\n",
            "Epoch 15/20\n",
            "782/782 [==============================] - 11s 14ms/step - loss: 0.0198\n",
            "Epoch 16/20\n",
            "782/782 [==============================] - 10s 13ms/step - loss: 0.0206\n",
            "Epoch 17/20\n",
            "782/782 [==============================] - 10s 13ms/step - loss: 0.0172\n",
            "Epoch 18/20\n",
            "782/782 [==============================] - 11s 14ms/step - loss: 0.0149\n",
            "Epoch 19/20\n",
            "782/782 [==============================] - 10s 13ms/step - loss: 0.0159\n",
            "Epoch 20/20\n",
            "782/782 [==============================] - 10s 13ms/step - loss: 0.0112\n"
          ]
        },
        {
          "output_type": "execute_result",
          "data": {
            "text/plain": [
              "<keras.callbacks.History at 0x7f039ca8cb90>"
            ]
          },
          "metadata": {},
          "execution_count": 61
        }
      ]
    },
    {
      "cell_type": "code",
      "source": [
        "xtest_padded = keras.preprocessing.sequence.pad_sequences(\n",
        "    xtest, padding='post', truncating='post'\n",
        ")\n",
        "p = m.predict(xtest_padded)"
      ],
      "metadata": {
        "id": "W1hQmfiXPByV"
      },
      "execution_count": null,
      "outputs": []
    },
    {
      "cell_type": "code",
      "source": [
        "p[:5]\n",
        "mapping_logic = lambda x: 1 if x>0.75 else 0\n",
        "predictions = [mapping_logic(pred) for pred in p]"
      ],
      "metadata": {
        "id": "ql5PWT5bSKI0"
      },
      "execution_count": null,
      "outputs": []
    },
    {
      "cell_type": "code",
      "source": [
        "ytest[:5]"
      ],
      "metadata": {
        "colab": {
          "base_uri": "https://localhost:8080/"
        },
        "id": "eymHLrhrSQyq",
        "outputId": "aa9ea679-6045-4c95-b699-802bb36c391e"
      },
      "execution_count": null,
      "outputs": [
        {
          "output_type": "execute_result",
          "data": {
            "text/plain": [
              "array([0, 1, 1, 0, 1])"
            ]
          },
          "metadata": {},
          "execution_count": 79
        }
      ]
    },
    {
      "cell_type": "code",
      "source": [
        "from sklearn.metrics import accuracy_score"
      ],
      "metadata": {
        "id": "_iMuGsUySVVO"
      },
      "execution_count": null,
      "outputs": []
    },
    {
      "cell_type": "code",
      "source": [
        "accuracy_score(predictions, ytest)"
      ],
      "metadata": {
        "colab": {
          "base_uri": "https://localhost:8080/"
        },
        "id": "TDy8zkI4Sa3d",
        "outputId": "1cabb41f-94a9-407c-ee76-164b70d1d2b2"
      },
      "execution_count": null,
      "outputs": [
        {
          "output_type": "execute_result",
          "data": {
            "text/plain": [
              "0.79148"
            ]
          },
          "metadata": {},
          "execution_count": 81
        }
      ]
    },
    {
      "cell_type": "code",
      "source": [
        "m.save('blah.h5')"
      ],
      "metadata": {
        "id": "IZn7Uy4YTCXW"
      },
      "execution_count": null,
      "outputs": []
    },
    {
      "cell_type": "code",
      "source": [
        "import tensorflow as tf\n",
        "tf.__version__"
      ],
      "metadata": {
        "colab": {
          "base_uri": "https://localhost:8080/",
          "height": 35
        },
        "id": "Skhd_5_NTvDg",
        "outputId": "74fe63ca-82ed-442b-e8ba-49987d794db7"
      },
      "execution_count": null,
      "outputs": [
        {
          "output_type": "execute_result",
          "data": {
            "text/plain": [
              "'2.8.2'"
            ],
            "application/vnd.google.colaboratory.intrinsic+json": {
              "type": "string"
            }
          },
          "metadata": {},
          "execution_count": 2
        }
      ]
    },
    {
      "cell_type": "code",
      "source": [],
      "metadata": {
        "id": "AezeQuckktAB"
      },
      "execution_count": null,
      "outputs": []
    }
  ]
}